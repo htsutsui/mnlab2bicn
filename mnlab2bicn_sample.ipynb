{
 "cells": [
  {
   "cell_type": "markdown",
   "metadata": {},
   "source": [
    "Sample script for MNLab2BICN.\n",
    "\n",
    "メディアネットワーク実験IIB 項目Iで利用するサンプル．\n",
    "\n",
    "PSK および QAM は適切に実装されていません．`要修正`を要修正です．"
   ]
  },
  {
   "cell_type": "markdown",
   "metadata": {},
   "source": [
    "必要なファイルを`github`から取り出す．"
   ]
  },
  {
   "cell_type": "code",
   "execution_count": null,
   "metadata": {},
   "outputs": [],
   "source": [
    "!test -d mnlab2bicn && (cd mnlab2bicn ; git pull) || git clone https://github.com/htsutsui/mnlab2bicn/\n",
    "!cp mnlab2bicn/mnlab2bicn.py .\n",
    "!cp mnlab2bicn/gray.py ."
   ]
  },
  {
   "cell_type": "markdown",
   "metadata": {},
   "source": [
    "`mnlab2bicn`が依存する`gmpy2` (BER計算を高速化する)をインストールする．\n",
    "なお，`gmpy2`が無くてもBER計算は可能(若干遅くなる)なので，エラーが生じる場合は無視すること．"
   ]
  },
  {
   "cell_type": "code",
   "execution_count": null,
   "metadata": {
    "scrolled": true
   },
   "outputs": [],
   "source": [
    "!sudo apt-get update\n",
    "!sudo apt-get install -y libgmp-dev libmpfr-dev libmpc-dev\n",
    "!pip install gmpy2"
   ]
  },
  {
   "cell_type": "markdown",
   "metadata": {},
   "source": [
    "NumPy と Matplotlib を使うので`import`する．"
   ]
  },
  {
   "cell_type": "code",
   "execution_count": null,
   "metadata": {},
   "outputs": [],
   "source": [
    "import matplotlib.pyplot as plt\n",
    "import numpy as np"
   ]
  },
  {
   "cell_type": "markdown",
   "metadata": {},
   "source": [
    "実験で使用するあらかじめ用意されている関数を`import`する．"
   ]
  },
  {
   "cell_type": "code",
   "execution_count": null,
   "metadata": {},
   "outputs": [],
   "source": [
    "from mnlab2bicn import awgn, calc_ser, calc_ber, \\\n",
    "    int2gray, gray2int, scatter_plot"
   ]
  },
  {
   "cell_type": "markdown",
   "metadata": {},
   "source": [
    "このscript中で利用するdebug用の変数．"
   ]
  },
  {
   "cell_type": "code",
   "execution_count": null,
   "metadata": {},
   "outputs": [],
   "source": [
    "verbose = True # True だと for loop の処理の状況(進み具合)が確認できる\n",
    "verbose_awgn = False"
   ]
  },
  {
   "cell_type": "markdown",
   "metadata": {},
   "source": [
    "PSKのシミュレーションを行う関数を定義する．"
   ]
  },
  {
   "cell_type": "code",
   "execution_count": null,
   "metadata": {},
   "outputs": [],
   "source": [
    "def psk_test(m_level, i_snr, i_size, plot=False, gray=False):\n",
    "    \"\"\"PSK test\n",
    "\n",
    "    Parameters\n",
    "    ----------\n",
    "    m_level: modulation level (integer)\n",
    "    i_snr: SNR in dB\n",
    "    i_size: number of samples\n",
    "    plot: optional. if True, scatter plot will be generated.\n",
    "    gray: optional. if True, gray code is used.\n",
    "\n",
    "    Returns\n",
    "    -------\n",
    "    (SER, BER)\n",
    "    \"\"\"\n",
    "    src = np.random.randint(m_level, size=i_size)\n",
    "\n",
    "    x = int2gray(src) if gray else src\n",
    "\n",
    "    # Start of 要修正\n",
    "    y = x / (m_level - 1)\n",
    "    # End of 要修正\n",
    "\n",
    "    y_noisy = awgn(y, i_snr, verbose_awgn)\n",
    "\n",
    "    if plot:\n",
    "        scatter_plot(y_noisy, f\"PSK_{m_level}_{i_snr}_{i_size}\")\n",
    "\n",
    "    # Start of 要修正\n",
    "    z = np.round(y_noisy.real * (m_level - 1))\n",
    "    z = np.where(z < 0, 0, z)\n",
    "    z = np.where(z > m_level - 1, m_level - 1, z)\n",
    "    # End of 要修正\n",
    "\n",
    "    z = np.array(z, dtype='int')\n",
    "\n",
    "    dst = gray2int(z) if gray else z\n",
    "\n",
    "    return (calc_ser(src, dst), calc_ber(src, dst, m_level))"
   ]
  },
  {
   "cell_type": "markdown",
   "metadata": {},
   "source": [
    "QAMのシミュレーションを行う関数を定義する．"
   ]
  },
  {
   "cell_type": "code",
   "execution_count": null,
   "metadata": {},
   "outputs": [],
   "source": [
    "def qam_test(m_level, i_snr, i_size, plot=False, gray=False):\n",
    "    \"\"\"QAM test\n",
    "\n",
    "    Parameters\n",
    "    ----------\n",
    "    m_level: modulation level (integer)\n",
    "    i_snr: SNR in dB\n",
    "    i_size: number of samples\n",
    "    plot: optional. if True, scatter plot will be generated.\n",
    "    gray: optional. if True, gray code is used.\n",
    "\n",
    "    Returns\n",
    "    -------\n",
    "    (SER, BER)\n",
    "    \"\"\"\n",
    "    src = np.random.randint(m_level, size=i_size)\n",
    "    k = int(np.log2(m_level))\n",
    "    smax = 2 ** (k // 2) - 1\n",
    "\n",
    "    yr = src >> (k // 2)\n",
    "    yi = src & smax\n",
    "\n",
    "    yr = int2gray(yr) if gray else yr\n",
    "    yi = int2gray(yi) if gray else yi\n",
    "\n",
    "    # Start of 要修正\n",
    "    y = np.exp(1j * (2 * np.pi) / (smax + 1) * yr)\n",
    "    y *= ((yi + 1) / (smax + 1))\n",
    "    # End of 要修正\n",
    "\n",
    "    y_noisy = awgn(y, i_snr, verbose_awgn)\n",
    "\n",
    "    if plot:\n",
    "        scatter_plot(y_noisy, f\"QAM_{m_level}_{i_snr}_{i_size}\")\n",
    "\n",
    "    # Start of 要修正\n",
    "    zr = np.round(np.angle(y_noisy)/((2 * np.pi) / (smax + 1)))\n",
    "    zr += (zr < 0)*(smax + 1)\n",
    "    zr = np.array(zr, dtype='int')\n",
    "\n",
    "    zi = np.round(np.abs(y_noisy) * (smax + 1))\n",
    "    zi = np.array(zi, dtype='int')\n",
    "    zi -= 1\n",
    "    # End of 要修正\n",
    "\n",
    "    zr = np.where(zr < 0, 0, zr)\n",
    "    zr = np.where(zr > smax, smax, zr)\n",
    "    zi = np.where(zi < 0, 0, zi)\n",
    "    zi = np.where(zi > smax, smax, zi)\n",
    "\n",
    "    zr = gray2int(zr) if gray else zr\n",
    "    zi = gray2int(zi) if gray else zi\n",
    "\n",
    "    dst = zr << (k // 2)\n",
    "    dst += zi\n",
    "\n",
    "    return (calc_ser(src, dst), calc_ber(src, dst, m_level))"
   ]
  },
  {
   "cell_type": "markdown",
   "metadata": {},
   "source": [
    "グラフのフォントサイズを調整する．"
   ]
  },
  {
   "cell_type": "code",
   "execution_count": null,
   "metadata": {},
   "outputs": [],
   "source": [
    "plt.rcParams.update({'font.size': 16})"
   ]
  },
  {
   "cell_type": "markdown",
   "metadata": {},
   "source": [
    "PSKのシミュレーションを行う．図は`PSK_4_30_100.png`および`PSK_4_30_100.pdf`に保存される．以下同様．\n",
    "\n",
    "返り値は(SER, BER)．多値数，SNR，およびサンプル数を様々に変更してシミュレーションする(課題1，2)．"
   ]
  },
  {
   "cell_type": "code",
   "execution_count": null,
   "metadata": {},
   "outputs": [],
   "source": [
    "psk_test(4, 30, 100, plot=True)"
   ]
  },
  {
   "cell_type": "code",
   "execution_count": null,
   "metadata": {},
   "outputs": [],
   "source": [
    "psk_test(8, 50, 100, plot=True)"
   ]
  },
  {
   "cell_type": "code",
   "execution_count": null,
   "metadata": {},
   "outputs": [],
   "source": [
    "psk_test(16, 40, 4000, plot=True)"
   ]
  },
  {
   "cell_type": "markdown",
   "metadata": {},
   "source": [
    "QAMのシミュレーションを行う．\n",
    "\n",
    "返り値は(SER, BER)．多値数，SNR，およびサンプル数を様々に変更してシミュレーションする(課題1，2)．"
   ]
  },
  {
   "cell_type": "code",
   "execution_count": null,
   "metadata": {},
   "outputs": [],
   "source": [
    "qam_test(16, 30, 4000, plot=True)"
   ]
  },
  {
   "cell_type": "code",
   "execution_count": null,
   "metadata": {},
   "outputs": [],
   "source": [
    "qam_test(64, 30, 4000, plot=True)"
   ]
  },
  {
   "cell_type": "markdown",
   "metadata": {},
   "source": [
    "グラフのフォントサイズを調整する．"
   ]
  },
  {
   "cell_type": "code",
   "execution_count": null,
   "metadata": {},
   "outputs": [],
   "source": [
    "plt.rcParams.update({'font.size': 12})"
   ]
  },
  {
   "cell_type": "markdown",
   "metadata": {},
   "source": [
    "PSK/QAM Comparison\n",
    "\n",
    "課題3．サンプル数(`size`)は適宜調整すること．"
   ]
  },
  {
   "cell_type": "code",
   "execution_count": null,
   "metadata": {},
   "outputs": [],
   "source": [
    "size = 10000\n",
    "for m in [64, 16, 4]:\n",
    "    snrs = []\n",
    "    bers = []\n",
    "    for snr in range(0, 55, 2):\n",
    "        ser, ber = psk_test(m, snr, size)\n",
    "        if verbose:\n",
    "            print([snr, m, ser, ber])\n",
    "        if ber < 1e-6:\n",
    "            break\n",
    "        snrs.append(snr)\n",
    "        bers.append(ber)\n",
    "    plt.semilogy(snrs, bers, '-o', label=f\"{m}PSK\")\n",
    "    snrs = []\n",
    "    bers = []\n",
    "    for snr in range(0, 55, 2):\n",
    "        ser, ber = qam_test(m, snr, size)\n",
    "        if verbose:\n",
    "            print([snr, m, ser, ber])\n",
    "        if ber < 1e-6:\n",
    "            break\n",
    "        snrs.append(snr)\n",
    "        bers.append(ber)\n",
    "    plt.semilogy(snrs, bers, '-o', label=f\"{m}QAM\")\n",
    "\n",
    "plt.grid()\n",
    "plt.xlabel(\"SNR (dB)\")\n",
    "plt.ylabel(\"BER\")\n",
    "plt.legend()\n",
    "plt.tight_layout()\n",
    "plt.ylim(top=1)\n",
    "plt.savefig(\"PSK_QAM.png\")\n",
    "plt.savefig(\"PSK_QAM.pdf\")"
   ]
  },
  {
   "cell_type": "markdown",
   "metadata": {},
   "source": [
    "PSK Gray Code Comparison\n",
    "\n",
    "課題4．サンプル数(`size`)は適宜調整すること．"
   ]
  },
  {
   "cell_type": "code",
   "execution_count": null,
   "metadata": {},
   "outputs": [],
   "source": [
    "size = 10000\n",
    "for m in [64, 16, 4]:\n",
    "    snrs = []\n",
    "    bers = []\n",
    "    for snr in range(0, 55, 2):\n",
    "        ser, ber = psk_test(m, snr, size)\n",
    "        if verbose:\n",
    "            print([snr, m, ser, ber])\n",
    "        if ber < 1e-6:\n",
    "            break\n",
    "        snrs.append(snr)\n",
    "        bers.append(ber)\n",
    "    plt.semilogy(snrs, bers, '-o', label=f\"{m}PSK\")\n",
    "    snrs = []\n",
    "    bers = []\n",
    "    for snr in range(0, 55, 2):\n",
    "        ser, ber = psk_test(m, snr, size, gray=True)\n",
    "        if verbose:\n",
    "            print([snr, m, ser, ber])\n",
    "        if ber < 1e-6:\n",
    "            break\n",
    "        snrs.append(snr)\n",
    "        bers.append(ber)\n",
    "    plt.semilogy(snrs, bers, '-o', label=f\"{m}PSK gray\")\n",
    "\n",
    "plt.grid()\n",
    "plt.xlabel(\"SNR (dB)\")\n",
    "plt.ylabel(\"BER\")\n",
    "plt.legend()\n",
    "plt.tight_layout()\n",
    "plt.ylim(top=1)\n",
    "plt.savefig(\"PSK_gray.png\")\n",
    "plt.savefig(\"PSK_gray.pdf\")"
   ]
  },
  {
   "cell_type": "markdown",
   "metadata": {},
   "source": [
    "QAM Gray Code Comparison\n",
    "\n",
    "課題4．サンプル数(`size`)は適宜調整すること．"
   ]
  },
  {
   "cell_type": "code",
   "execution_count": null,
   "metadata": {},
   "outputs": [],
   "source": [
    "size = 10000\n",
    "for m in [64, 16, 4]:\n",
    "    snrs = []\n",
    "    bers = []\n",
    "    for snr in range(0, 55, 2):\n",
    "        ser, ber = qam_test(m, snr, size)\n",
    "        if verbose:\n",
    "            print([snr, m, ser, ber])\n",
    "        if ber < 1e-6:\n",
    "            break\n",
    "        snrs.append(snr)\n",
    "        bers.append(ber)\n",
    "    plt.semilogy(snrs, bers, '-o', label=f\"{m}QAM\")\n",
    "    snrs = []\n",
    "    bers = []\n",
    "    for snr in range(0, 55, 2):\n",
    "        ser, ber = qam_test(m, snr, size, gray=True)\n",
    "        if verbose:\n",
    "            print([snr, m, ser, ber])\n",
    "        if ber < 1e-6:\n",
    "            break\n",
    "        snrs.append(snr)\n",
    "        bers.append(ber)\n",
    "    plt.semilogy(snrs, bers, '-o', label=f\"{m}QAM gray\")\n",
    "\n",
    "plt.grid()\n",
    "plt.xlabel(\"SNR (dB)\")\n",
    "plt.ylabel(\"BER\")\n",
    "plt.legend()\n",
    "plt.tight_layout()\n",
    "plt.ylim(top=1)\n",
    "plt.savefig(\"QAM_gray.png\")\n",
    "plt.savefig(\"QAM_gray.pdf\")"
   ]
  }
 ],
 "metadata": {
  "anaconda-cloud": {},
  "kernelspec": {
   "display_name": "Python 3",
   "language": "python",
   "name": "python3"
  },
  "language_info": {
   "codemirror_mode": {
    "name": "ipython",
    "version": 3
   },
   "file_extension": ".py",
   "mimetype": "text/x-python",
   "name": "python",
   "nbconvert_exporter": "python",
   "pygments_lexer": "ipython3",
   "version": "3.6.9"
  },
  "widgets": {
   "application/vnd.jupyter.widget-state+json": {
    "state": {},
    "version_major": 1,
    "version_minor": 0
   }
  }
 },
 "nbformat": 4,
 "nbformat_minor": 4
}
